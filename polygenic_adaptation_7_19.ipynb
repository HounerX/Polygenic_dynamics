{
 "cells": [
  {
   "cell_type": "code",
   "execution_count": null,
   "id": "22c99aed",
   "metadata": {},
   "outputs": [],
   "source": []
  },
  {
   "cell_type": "code",
   "execution_count": null,
   "id": "0e68ec08",
   "metadata": {},
   "outputs": [],
   "source": [
    "import numpy as np\n",
    "import numba as nb\n",
    "import matplotlib.pyplot as plt\n",
    "import math\n",
    "import matplotlib as mpl\n"
   ]
  },
  {
   "cell_type": "code",
   "execution_count": null,
   "id": "5787aee7",
   "metadata": {},
   "outputs": [],
   "source": [
    "mpl.rcParams['figure.dpi'] = 400\n"
   ]
  },
  {
   "cell_type": "code",
   "execution_count": null,
   "id": "e67b2f21",
   "metadata": {},
   "outputs": [],
   "source": [
    "def fitness(z,Vs):\n",
    "    return(np.exp(-(z**2)/(2*Vs)))\n",
    "def delta_x_withvar(d,p,a,va,vs):\n",
    "    \n",
    "    numerator = math.exp(-((d + a * (-1 + p))**2 / (2 * (va + vs)))) / math.sqrt(1 +( va / vs)) - math.exp(-((d + a * p)**2 / (2 * (va + vs)))) / math.sqrt(1 +( va / vs))\n",
    "    denominator = (math.exp(-((d + a * p)**2 / (2 * (va + vs)))) * (1 - p)) / math.sqrt(1 +( va / vs)) + (math.exp(-((d + a * (-1 + p))**2 / (2 * (va + vs)))) * p) / math.sqrt(1 +( va / vs))\n",
    "    delta_x = numerator / denominator\n",
    "    return delta_x*p*(1 - p)\n",
    "\n",
    "def sample_d(Va,Vs,d):\n",
    "    \n",
    "    deltad=-(Va/Vs)*d\n",
    "    \n",
    "    \n",
    "    return deltad"
   ]
  },
  {
   "cell_type": "code",
   "execution_count": null,
   "id": "695dfc15",
   "metadata": {},
   "outputs": [],
   "source": [
    "def custombinomial(n,p):\n",
    "    counting1s=0\n",
    "    for i in range(n):\n",
    "        x = np.random.uniform()\n",
    "        if x<p:\n",
    "            counting1s=counting1s+1\n",
    "\n",
    "    return(counting1s/n)"
   ]
  },
  {
   "cell_type": "code",
   "execution_count": null,
   "id": "e71e15fb",
   "metadata": {},
   "outputs": [],
   "source": []
  },
  {
   "cell_type": "code",
   "execution_count": null,
   "id": "80faab5d",
   "metadata": {},
   "outputs": [],
   "source": [
    "def single_allele_simulation_trajectory(x,d,Va,Vs,a,N,gens):\n",
    "    d_t=d\n",
    "    x_t=x\n",
    "    replicates=[]\n",
    "    \n",
    "    for r in range(1):\n",
    "        print(r)\n",
    "        simulated_allele_trajectory=[]\n",
    "        d_t=d\n",
    "        x_t=x\n",
    "\n",
    "        optimum_changed=[]\n",
    "        optimum_changed.append(d_t)\n",
    "        simulated_allele_trajectory.append(x_t)\n",
    "\n",
    "        for i in range(gens-1):\n",
    "            if(x_t>0):\n",
    "                deltax=delta_x_withvar(d_t,x_t,a,Va,Vs)#delta_x_withvar(d_t,x_t,a,Va,Vs)#delta_x(d_t,x_t,a,Vs)#delta_x_withvar(d_t,x_t,a,Va,Vs)#delta_x(d_t,x_t,a,Vs)#delta_x_withvar(d_t,x_t,a,Va,Vs)#delta_x(d_t,x_t,a,Vs)#delta_x_withvar(d_t,x_t,a,Va,Vs)#delta_x(d_t,x_t,a,Vs) #delta_x_withvar(d_t,x_t,a,Va,Vs)#delta_x(d_t,x_t,a,Vs) #delta_x_withvar(d_t,x_t,a,Va,Vs)#\n",
    "\n",
    "                #x_t=custombinomial(1000,x_t+deltax)#np.random.binomial(1, x_t+deltax, 2*N)\n",
    "                #x_t=np.cou(alleles==1)/(2*N) #=x_t+deltax#l\n",
    "            \n",
    "                x_t=x_t+deltax\n",
    "            else:\n",
    "                x_t=0\n",
    "                \n",
    "            deltad=sample_d(Va,Vs,d_t)\n",
    "\n",
    "            d_t=deltad+d_t\n",
    "            if(abs(d_t)<0.00001):\n",
    "                d_t=0\n",
    "            optimum_changed.append(d_t)\n",
    "            print(d_t)\n",
    "            simulated_allele_trajectory.append(x_t)\n",
    "            \n",
    "        replicates.append(simulated_allele_trajectory)\n",
    "    return(replicates,optimum_changed)"
   ]
  },
  {
   "cell_type": "code",
   "execution_count": null,
   "id": "c0df4802",
   "metadata": {},
   "outputs": [],
   "source": []
  },
  {
   "cell_type": "code",
   "execution_count": null,
   "id": "04f59a2f",
   "metadata": {},
   "outputs": [],
   "source": [
    "def term3(a, d, p, va, vs):\n",
    "    numerator = -a**3 * (d * (p - 1) * p * (d**2 * (6 * (p - 1) * p + 1) - 3 * (1 - 2 * p)**2 * (va + vs)))\n",
    "    denominator = 6 * (va + vs)**3\n",
    "    return numerator / denominator\n"
   ]
  },
  {
   "cell_type": "code",
   "execution_count": null,
   "id": "ccab6bf6",
   "metadata": {},
   "outputs": [],
   "source": [
    "def term2(a, d, p, va, vs):\n",
    "    numerator = -a**2 * ((p - 1) * p * (2 * p - 1) * (-d**2 + va + vs))\n",
    "    denominator = 2 * (va + vs)**2\n",
    "    return numerator / denominator\n"
   ]
  },
  {
   "cell_type": "code",
   "execution_count": null,
   "id": "d7497e7c",
   "metadata": {},
   "outputs": [],
   "source": [
    "def term1(a, d, p, va, vs):\n",
    "    numerator =- a * d * (p - 1) * p\n",
    "    denominator = va + vs\n",
    "    return numerator / denominator\n"
   ]
  },
  {
   "cell_type": "code",
   "execution_count": null,
   "id": "d6c1dbf0",
   "metadata": {},
   "outputs": [],
   "source": [
    "def my_second_order_approximation(p,d,va,vs,a,N):\n",
    "    term1_value = term1(a, d, p, va, vs)\n",
    "    term2_value = term2(a, d, p, va, vs)\n",
    "    term3_value = term3(a, d, p, va, vs)\n",
    "    result1 = term1_value \n",
    "    result2 = term1_value+term2_value \n",
    "\n",
    "    return result1,result2\n"
   ]
  },
  {
   "cell_type": "code",
   "execution_count": null,
   "id": "e9daf90e",
   "metadata": {},
   "outputs": [],
   "source": [
    "def barton_approximation(p,d,va,vs,a,N):\n",
    "    term1_value = (p*(1-p)/(va+vs))*d*a\n",
    "    term2_value = -(p*(1-p)*(1/2-p)*a**2)/(va+vs)\n",
    "\n",
    "    return term1_value+term2_value\n"
   ]
  },
  {
   "cell_type": "code",
   "execution_count": null,
   "id": "4510e694",
   "metadata": {},
   "outputs": [],
   "source": [
    "def approximation_trajectory_term1(x,d,Va,Vs,a,N,gens):\n",
    "    d_t=d\n",
    "    x_t=x\n",
    "    approximate_solution_all=[x_t]\n",
    "\n",
    "\n",
    "    for i in range(gens-1):\n",
    "        \n",
    "        result1,result2=my_second_order_approximation(x_t,d_t,Va,Vs,a,N)\n",
    "        \n",
    "\n",
    "        x_t=x_t+result1 #i use the 2 terms to update\n",
    "        \n",
    "        deltad=sample_d(Va,Vs,d_t)\n",
    "\n",
    "        d_t=deltad+d_t\n",
    "        \n",
    "        approximate_solution_all.append(x_t)\n",
    "\n",
    "            \n",
    "\n",
    "        \n",
    "    return(approximate_solution_all)\n",
    "    "
   ]
  },
  {
   "cell_type": "code",
   "execution_count": null,
   "id": "efab2bdd",
   "metadata": {},
   "outputs": [],
   "source": [
    "def approximation_trajectory_term2(x,d,Va,Vs,a,N,gens):\n",
    "    d_t=d\n",
    "    x_t=x\n",
    "    approximate_solution_all=[x_t]\n",
    "\n",
    "\n",
    "    for i in range(gens-1):\n",
    "        \n",
    "        result1,result2=my_second_order_approximation(x_t,d_t,Va,Vs,a,N)\n",
    "        \n",
    "\n",
    "        x_t=x_t+result2 #i use the 2 terms to update\n",
    "        \n",
    "        deltad=sample_d(Va,Vs,d_t)\n",
    "\n",
    "        d_t=deltad+d_t\n",
    "        \n",
    "        approximate_solution_all.append(x_t)\n",
    "\n",
    "            \n",
    "\n",
    "        \n",
    "    return(approximate_solution_all)\n",
    "    "
   ]
  },
  {
   "cell_type": "code",
   "execution_count": null,
   "id": "8a46d123",
   "metadata": {},
   "outputs": [],
   "source": [
    "def approximation_trajectory_barton(x,d,Va,Vs,a,N,gens):\n",
    "    d_t=d\n",
    "    x_t=x\n",
    "    approximate_solution_all=[x_t]\n",
    "\n",
    "\n",
    "    for i in range(gens-1):\n",
    "        \n",
    "        result1=barton_approximation(x_t,d_t,Va,Vs,a,N)\n",
    "        \n",
    "\n",
    "        x_t=x_t+result1 #use the 2 terms to update\n",
    "        \n",
    "        deltad=sample_d(Va,Vs,d_t)\n",
    "        \n",
    "        d_t=deltad+d_t\n",
    "        \n",
    "        approximate_solution_all.append(x_t)\n",
    "\n",
    "            \n",
    "\n",
    "        \n",
    "    return(approximate_solution_all)\n",
    "    "
   ]
  },
  {
   "cell_type": "code",
   "execution_count": null,
   "id": "ee3c1c27",
   "metadata": {},
   "outputs": [],
   "source": [
    "#test 1\n",
    "x=0.1\n",
    "d=5\n",
    "Va=0.1\n",
    "Vs=5\n",
    "a=0.005\n",
    "N=1000\n",
    "gens_n=10000"
   ]
  },
  {
   "cell_type": "code",
   "execution_count": null,
   "id": "58cab96b",
   "metadata": {
    "scrolled": true
   },
   "outputs": [],
   "source": [
    "trajectory_simulated,optimum_trajectory=single_allele_simulation_trajectory(x,d,Va,Vs,a,N,gens_n)\n"
   ]
  },
  {
   "cell_type": "markdown",
   "id": "9805bb36",
   "metadata": {},
   "source": [
    "# optimum_trajectory"
   ]
  },
  {
   "cell_type": "code",
   "execution_count": null,
   "id": "f88ecdde",
   "metadata": {},
   "outputs": [],
   "source": [
    "#plt.plot(optimum_trajectory)\n",
    "#plt.xlabel(\"gens\")\n",
    "#plt.title(\"Vs=500,Va=10,a=-0.1,d=-150\")\n",
    "\n",
    "#plt.ylabel(\"distance from the optimum\")"
   ]
  },
  {
   "cell_type": "code",
   "execution_count": null,
   "id": "270bb009",
   "metadata": {
    "scrolled": true
   },
   "outputs": [],
   "source": [
    "uptoterm2=approximation_trajectory_term2(x,d,Va,Vs,a,N,gens_n)\n",
    "uptoterm1=approximation_trajectory_term1(x,d,Va,Vs,a,N,gens_n)\n",
    "bartonapprox=approximation_trajectory_barton(x,d,Va,Vs,a,N,gens_n)"
   ]
  },
  {
   "cell_type": "code",
   "execution_count": null,
   "id": "46ce0ede",
   "metadata": {},
   "outputs": [],
   "source": [
    "gens=list(range(gens_n))"
   ]
  },
  {
   "cell_type": "code",
   "execution_count": null,
   "id": "fb48baf3",
   "metadata": {},
   "outputs": [],
   "source": [
    "replicates_array = np.array(trajectory_simulated)\n",
    "mean_values = np.mean(trajectory_simulated, axis=0)\n",
    "std_values = np.std(trajectory_simulated, axis=0)\n",
    "std_values=std_values/np.sqrt(N)"
   ]
  },
  {
   "cell_type": "code",
   "execution_count": null,
   "id": "0aa6f96f",
   "metadata": {},
   "outputs": [],
   "source": [
    "fig, ax1 = plt.subplots()\n",
    "\n",
    "# Plotting the primary data on the left y-axis\n",
    "ax1.plot(gens, mean_values, color='black', label='numerically comupted', linestyle='solid')\n",
    "ax1.plot(gens, uptoterm1, color='blue', label='approximation_uptoterm1', linestyle='dashed')\n",
    "ax1.plot(gens, uptoterm2, color='yellow', label='approximation_uptoterm2', linestyle='dashed')\n",
    "ax1.plot(gens, bartonapprox, color='red', label='bartonapprox', linestyle='dashed')\n",
    "\n",
    "ax1.set_xlabel('gens')\n",
    "ax1.set_ylabel('focal allele frequency')\n",
    "ax1.legend(loc='center right')\n",
    "\n",
    "\n",
    "# Create a secondary y-axis\n",
    "ax2 = ax1.twinx()\n",
    "\n",
    "# Plotting the secondary data on the right y-axis\n",
    "ax2.plot(gens, optimum_trajectory, color='green', label=\"mean phenotype trajectory\", linestyle='solid')\n",
    "ax2.set_ylabel('phenotypic distance from optimum')\n",
    "\n",
    "# Add a legend for the secondary axis\n",
    "ax2.legend(loc='lower right')\n",
    "\n",
    "# Show the plot\n",
    "plt.show()\n"
   ]
  },
  {
   "cell_type": "code",
   "execution_count": null,
   "id": "182a15c0",
   "metadata": {
    "scrolled": true
   },
   "outputs": [],
   "source": [
    "#for replicate in replicates_array:\n",
    "#    plt.plot(gens, replicate, color='blue', alpha=0.1)\n",
    "\n",
    "# Plotting the trend curve\n",
    "plt.plot(gens, mean_values, color='red', label='simulated')\n",
    "#plt.fill_between(gens, mean_values - std_values, mean_values + std_values, color='red', alpha=0.2, label='Standard Deviation')\n",
    "\n",
    "# Add labels and legend\n",
    "plt.xlabel('X values')\n",
    "plt.ylabel('Y values')\n",
    "plt.legend()\n",
    "    # Show the plot\n",
    "\n",
    "plt.plot(gens, uptoterm1, color='blue', label='approximation_uptoterm1', linestyle='dashed')\n",
    "\n",
    "plt.plot(gens, uptoterm2, color='yellow', label='approximation_uptoterm2', linestyle='dashed')\n",
    "\n",
    "plt.legend()\n",
    "\n",
    "plt.ylabel(\"focal allele frequency\")\n",
    "plt.xlabel(\"gens\")\n",
    "\n",
    "plt.show()\n"
   ]
  },
  {
   "cell_type": "code",
   "execution_count": null,
   "id": "7433274c",
   "metadata": {},
   "outputs": [],
   "source": []
  },
  {
   "cell_type": "code",
   "execution_count": null,
   "id": "a93d3927",
   "metadata": {},
   "outputs": [],
   "source": [
    "plt.plot(gens, term1_sol, color='blue', label='term2', linestyle='dashed')\n",
    "\n"
   ]
  },
  {
   "cell_type": "code",
   "execution_count": null,
   "id": "c8ed82ba",
   "metadata": {},
   "outputs": [],
   "source": [
    "plt.plot(gens, term2_sol, color='blue', label='term2', linestyle='dashed')\n"
   ]
  },
  {
   "cell_type": "code",
   "execution_count": null,
   "id": "37730905",
   "metadata": {},
   "outputs": [],
   "source": [
    "plt.plot(gens, term3_sol, color='blue', label='term2', linestyle='dashed')\n"
   ]
  },
  {
   "cell_type": "code",
   "execution_count": null,
   "id": "0cfa7726",
   "metadata": {},
   "outputs": [],
   "source": [
    "#test 2\n",
    "x=0.1\n",
    "d=5\n",
    "Va=0\n",
    "Vs=5\n",
    "a=0.005\n",
    "N=20000\n",
    "gens_n=10000"
   ]
  },
  {
   "cell_type": "code",
   "execution_count": null,
   "id": "a572745b",
   "metadata": {
    "scrolled": true
   },
   "outputs": [],
   "source": [
    "trajectory_simulated,optimum_trajectory=single_allele_simulation_trajectory(x,d,Va,Vs,a,N,gens_n)\n"
   ]
  },
  {
   "cell_type": "code",
   "execution_count": null,
   "id": "081ba093",
   "metadata": {},
   "outputs": [],
   "source": [
    "optimum_trajectory[len-1]"
   ]
  },
  {
   "cell_type": "code",
   "execution_count": null,
   "id": "84344846",
   "metadata": {
    "scrolled": true
   },
   "outputs": [],
   "source": [
    "approximate_solution,term1_sol,term2_sol,term3_sol=approximation_trajectory(x,d,Va,Vs,a,N,gens_n)"
   ]
  },
  {
   "cell_type": "code",
   "execution_count": null,
   "id": "9bd10dd3",
   "metadata": {},
   "outputs": [],
   "source": [
    "gens=list(range(gens_n))"
   ]
  },
  {
   "cell_type": "code",
   "execution_count": null,
   "id": "202d91be",
   "metadata": {},
   "outputs": [],
   "source": [
    "replicates_array = np.array(trajectory_simulated)\n",
    "mean_values = np.mean(trajectory_simulated, axis=0)\n",
    "std_values = np.std(trajectory_simulated, axis=0)\n"
   ]
  },
  {
   "cell_type": "code",
   "execution_count": null,
   "id": "bbd29031",
   "metadata": {},
   "outputs": [],
   "source": []
  },
  {
   "cell_type": "code",
   "execution_count": null,
   "id": "11a79892",
   "metadata": {},
   "outputs": [],
   "source": [
    "mean_values"
   ]
  },
  {
   "cell_type": "code",
   "execution_count": null,
   "id": "5da4a7f5",
   "metadata": {
    "scrolled": true
   },
   "outputs": [],
   "source": [
    "#for replicate in replicates_array:\n",
    "#    plt.plot(gens, replicate, color='blue', alpha=0.1)\n",
    "\n",
    "# Plotting the trend curve\n",
    "plt.plot(gens, mean_values, color='red', label='simulated')\n",
    "#plt.fill_between(gens, mean_values - std_values, mean_values + std_values, color='red', alpha=0.2, label='Standard Deviation')\n",
    "\n",
    "# Add labels and legend\n",
    "plt.xlabel('X values')\n",
    "plt.ylabel('Y values')\n",
    "plt.legend()\n",
    "    # Show the plot\n",
    "\n",
    "plt.plot(gens, approximate_solution, color='blue', label='approximation ', linestyle='dashed')\n",
    "plt.legend()\n",
    "plt.xlim(0,1000)\n",
    "plt.ylabel(\"focal allele frequency\")\n",
    "plt.xlabel(\"gens\")\n",
    "\n",
    "plt.show()\n"
   ]
  },
  {
   "cell_type": "code",
   "execution_count": null,
   "id": "93182947",
   "metadata": {},
   "outputs": [],
   "source": [
    "plt.plot(optimum_trajectory)\n",
    "plt.xlabel(\"gens\")\n",
    "plt.title(\"Vs=500,Va=10,a=-0.1,d=-150\")\n",
    "\n",
    "plt.ylabel(\"distance from the optimum\")"
   ]
  },
  {
   "cell_type": "code",
   "execution_count": null,
   "id": "66507ab8",
   "metadata": {},
   "outputs": [],
   "source": [
    "\n",
    "plt.plot(gens, term1_sol, color='blue', label='term3', linestyle='dashed')\n",
    "\n"
   ]
  },
  {
   "cell_type": "code",
   "execution_count": null,
   "id": "bea4b847",
   "metadata": {
    "scrolled": true
   },
   "outputs": [],
   "source": [
    "plt.plot(gens, term2_sol, color='blue', label='term3', linestyle='dashed')\n"
   ]
  },
  {
   "cell_type": "code",
   "execution_count": null,
   "id": "9c80d1a9",
   "metadata": {},
   "outputs": [],
   "source": [
    "\n",
    "plt.plot(gens, term3_sol, color='blue', label='term3', linestyle='dashed')\n"
   ]
  },
  {
   "cell_type": "code",
   "execution_count": null,
   "id": "872c502b",
   "metadata": {},
   "outputs": [],
   "source": [
    "#test 3\n",
    "x=0.1\n",
    "d=5\n",
    "Va=0\n",
    "Vs=5\n",
    "a=0.005\n",
    "N=20000\n",
    "gens_n=10000"
   ]
  },
  {
   "cell_type": "code",
   "execution_count": null,
   "id": "f9743861",
   "metadata": {
    "scrolled": true
   },
   "outputs": [],
   "source": [
    "trajectory_simulated,optimum_trajectory=single_allele_simulation_trajectory(x,d,Va,Vs,a,N,gens_n)\n"
   ]
  },
  {
   "cell_type": "code",
   "execution_count": null,
   "id": "89069929",
   "metadata": {},
   "outputs": [],
   "source": [
    "plt.plot(optimum_trajectory)\n",
    "plt.xlabel(\"gens\")\n",
    "plt.title(\"Vs=500,Va=10,a=-0.1,d=-150\")\n",
    "\n",
    "plt.ylabel(\"distance from the optimum\")"
   ]
  },
  {
   "cell_type": "code",
   "execution_count": null,
   "id": "ccd9c1f8",
   "metadata": {},
   "outputs": [],
   "source": [
    "optimum_trajectory[len(optimum_trajectory)-1]"
   ]
  },
  {
   "cell_type": "code",
   "execution_count": null,
   "id": "50ae0f3e",
   "metadata": {
    "scrolled": true
   },
   "outputs": [],
   "source": [
    "approximate_solution,term1_sol,term2_sol,term3_sol=approximation_trajectory(x,d,Va,Vs,a,N,gens_n)"
   ]
  },
  {
   "cell_type": "code",
   "execution_count": null,
   "id": "ad6c40d2",
   "metadata": {},
   "outputs": [],
   "source": [
    "gens=list(range(gens_n))"
   ]
  },
  {
   "cell_type": "code",
   "execution_count": null,
   "id": "f5c907a9",
   "metadata": {},
   "outputs": [],
   "source": [
    "replicates_array = np.array(trajectory_simulated)\n",
    "mean_values = np.mean(trajectory_simulated, axis=0)\n",
    "std_values = np.std(trajectory_simulated, axis=0)\n"
   ]
  },
  {
   "cell_type": "code",
   "execution_count": null,
   "id": "8dc1946e",
   "metadata": {},
   "outputs": [],
   "source": []
  },
  {
   "cell_type": "code",
   "execution_count": null,
   "id": "11c98227",
   "metadata": {},
   "outputs": [],
   "source": [
    "mean_values"
   ]
  },
  {
   "cell_type": "code",
   "execution_count": null,
   "id": "cece20ef",
   "metadata": {
    "scrolled": true
   },
   "outputs": [],
   "source": [
    "#for replicate in replicates_array:\n",
    "#    plt.plot(gens, replicate, color='blue', alpha=0.1)\n",
    "\n",
    "# Plotting the trend curve\n",
    "plt.plot(gens, mean_values, color='red', label='simulated')\n",
    "#plt.fill_between(gens, mean_values - std_values, mean_values + std_values, color='red', alpha=0.2, label='Standard Deviation')\n",
    "\n",
    "# Add labels and legend\n",
    "plt.xlabel('X values')\n",
    "plt.ylabel('Y values')\n",
    "plt.legend()\n",
    "    # Show the plot\n",
    "\n",
    "plt.plot(gens, approximate_solution, color='blue', label='approximation ', linestyle='dashed')\n",
    "plt.legend()\n",
    "\n",
    "plt.ylabel(\"focal allele frequency\")\n",
    "plt.xlabel(\"gens\")\n",
    "\n",
    "#plt.title(\"Vs=500,Va=10,a=-0.1,d=-150\")\n",
    "plt.show()\n"
   ]
  },
  {
   "cell_type": "code",
   "execution_count": null,
   "id": "57fc4359",
   "metadata": {},
   "outputs": [],
   "source": []
  },
  {
   "cell_type": "code",
   "execution_count": null,
   "id": "ecca037a",
   "metadata": {},
   "outputs": [],
   "source": [
    "#test 4\n",
    "x=0.6\n",
    "d=0\n",
    "Va=0.1\n",
    "Vs=5\n",
    "a=0.005\n",
    "N=20000\n",
    "gens_n=20000"
   ]
  },
  {
   "cell_type": "code",
   "execution_count": null,
   "id": "042fed78",
   "metadata": {
    "scrolled": true
   },
   "outputs": [],
   "source": [
    "trajectory_simulated,optimum_trajectory=single_allele_simulation_trajectory(x,d,Va,Vs,a,N,gens_n)\n"
   ]
  },
  {
   "cell_type": "code",
   "execution_count": null,
   "id": "d00c434d",
   "metadata": {},
   "outputs": [],
   "source": [
    "plt.plot(optimum_trajectory)\n",
    "plt.xlabel(\"gens\")\n",
    "plt.title(\"Vs=500,Va=10,a=-0.1,d=-150\")\n",
    "\n",
    "plt.ylabel(\"distance from the optimum\")"
   ]
  },
  {
   "cell_type": "code",
   "execution_count": null,
   "id": "d98a7b48",
   "metadata": {},
   "outputs": [],
   "source": [
    "optimum_trajectory[len(optimum_trajectory)-1]"
   ]
  },
  {
   "cell_type": "code",
   "execution_count": null,
   "id": "c89b381b",
   "metadata": {
    "scrolled": true
   },
   "outputs": [],
   "source": [
    "approximate_solution,term1_sol,term2_sol,term3_sol=approximation_trajectory(x,d,Va,Vs,a,N,gens_n)"
   ]
  },
  {
   "cell_type": "code",
   "execution_count": null,
   "id": "20a71cb5",
   "metadata": {},
   "outputs": [],
   "source": [
    "gens=list(range(gens_n))"
   ]
  },
  {
   "cell_type": "code",
   "execution_count": null,
   "id": "1e42cd30",
   "metadata": {},
   "outputs": [],
   "source": [
    "replicates_array = np.array(trajectory_simulated)\n",
    "mean_values = np.mean(trajectory_simulated, axis=0)\n",
    "std_values = np.std(trajectory_simulated, axis=0)\n"
   ]
  },
  {
   "cell_type": "code",
   "execution_count": null,
   "id": "6982c2af",
   "metadata": {},
   "outputs": [],
   "source": []
  },
  {
   "cell_type": "code",
   "execution_count": null,
   "id": "6865be65",
   "metadata": {},
   "outputs": [],
   "source": [
    "mean_values"
   ]
  },
  {
   "cell_type": "code",
   "execution_count": null,
   "id": "91c59ffd",
   "metadata": {
    "scrolled": true
   },
   "outputs": [],
   "source": [
    "#for replicate in replicates_array:\n",
    "#    plt.plot(gens, replicate, color='blue', alpha=0.1)\n",
    "\n",
    "# Plotting the trend curve\n",
    "plt.plot(gens, mean_values, color='red', label='simulated')\n",
    "plt.fill_between(gens, mean_values - std_values, mean_values + std_values, color='red', alpha=0.2, label='Standard Deviation')\n",
    "\n",
    "# Add labels and legend\n",
    "plt.xlabel('X values')\n",
    "plt.ylabel('Y values')\n",
    "plt.legend()\n",
    "    # Show the plot\n",
    "\n",
    "plt.plot(gens, approximate_solution, color='blue', label='without var approximation ', linestyle='dashed')\n",
    "plt.legend()\n",
    "\n",
    "plt.ylabel(\"focal allele frequency\")\n",
    "plt.xlabel(\"gens\")\n",
    "\n",
    "plt.title(\"Vs=500,Va=10,a=-0.1,d=-150\")\n",
    "plt.show()\n"
   ]
  },
  {
   "cell_type": "code",
   "execution_count": null,
   "id": "6978a699",
   "metadata": {},
   "outputs": [],
   "source": [
    "#test 5\n",
    "x=0.6\n",
    "d=50\n",
    "Va=0.1\n",
    "Vs=5\n",
    "a=0.005\n",
    "N=20000\n",
    "gens_n=20000"
   ]
  },
  {
   "cell_type": "code",
   "execution_count": null,
   "id": "ed55a06a",
   "metadata": {
    "scrolled": true
   },
   "outputs": [],
   "source": [
    "trajectory_simulated,optimum_trajectory=single_allele_simulation_trajectory(x,d,Va,Vs,a,N,gens_n)\n"
   ]
  },
  {
   "cell_type": "code",
   "execution_count": null,
   "id": "b33b69ba",
   "metadata": {},
   "outputs": [],
   "source": [
    "plt.plot(optimum_trajectory)\n",
    "plt.xlabel(\"gens\")\n",
    "plt.title(\"Vs=500,Va=10,a=-0.1,d=-150\")\n",
    "\n",
    "plt.ylabel(\"distance from the optimum\")"
   ]
  },
  {
   "cell_type": "code",
   "execution_count": null,
   "id": "a4ab3d46",
   "metadata": {},
   "outputs": [],
   "source": [
    "optimum_trajectory[len(optimum_trajectory)-1]"
   ]
  },
  {
   "cell_type": "code",
   "execution_count": null,
   "id": "0bae0b19",
   "metadata": {
    "scrolled": true
   },
   "outputs": [],
   "source": [
    "approximate_solution,term1_sol,term2_sol,term3_sol=approximation_trajectory(x,d,Va,Vs,a,N,gens_n)"
   ]
  },
  {
   "cell_type": "code",
   "execution_count": null,
   "id": "b2d0cfcb",
   "metadata": {},
   "outputs": [],
   "source": [
    "gens=list(range(gens_n))"
   ]
  },
  {
   "cell_type": "code",
   "execution_count": null,
   "id": "48811010",
   "metadata": {},
   "outputs": [],
   "source": [
    "replicates_array = np.array(trajectory_simulated)\n",
    "mean_values = np.mean(trajectory_simulated, axis=0)\n",
    "std_values = np.std(trajectory_simulated, axis=0)\n"
   ]
  },
  {
   "cell_type": "code",
   "execution_count": null,
   "id": "6fcbb6dc",
   "metadata": {},
   "outputs": [],
   "source": [
    "mean_values"
   ]
  },
  {
   "cell_type": "code",
   "execution_count": null,
   "id": "c1002e55",
   "metadata": {},
   "outputs": [],
   "source": [
    "mean_values"
   ]
  },
  {
   "cell_type": "code",
   "execution_count": null,
   "id": "c2285fea",
   "metadata": {
    "scrolled": false
   },
   "outputs": [],
   "source": [
    "#for replicate in replicates_array:\n",
    "#    plt.plot(gens, replicate, color='blue', alpha=0.1)\n",
    "\n",
    "# Plotting the trend curve\n",
    "plt.plot(gens, mean_values, color='red', label='simulated')\n",
    "plt.fill_between(gens, mean_values - std_values, mean_values + std_values, color='red', alpha=0.2, label='Standard Deviation')\n",
    "\n",
    "# Add labels and legend\n",
    "plt.xlabel('X values')\n",
    "plt.ylabel('Y values')\n",
    "plt.legend()\n",
    "    # Show the plot\n",
    "\n",
    "plt.plot(gens, approximate_solution, color='blue', label='without var approximation ', linestyle='dashed')\n",
    "plt.legend()\n",
    "\n",
    "plt.ylabel(\"focal allele frequency\")\n",
    "plt.xlabel(\"gens\")\n",
    "\n",
    "plt.show()\n"
   ]
  },
  {
   "cell_type": "code",
   "execution_count": null,
   "id": "f180b77b",
   "metadata": {},
   "outputs": [],
   "source": [
    "# testing approximation terms"
   ]
  },
  {
   "cell_type": "code",
   "execution_count": null,
   "id": "740ec2de",
   "metadata": {},
   "outputs": [],
   "source": [
    "x=0.1\n",
    "d=5\n",
    "Va=0.1\n",
    "Vs=5\n",
    "a=0.005\n",
    "N=20000\n",
    "gens_n=20000"
   ]
  },
  {
   "cell_type": "code",
   "execution_count": null,
   "id": "ff90aff0",
   "metadata": {},
   "outputs": [],
   "source": [
    "plt.plot(gens, term1_sol, color='blue', label='term2', linestyle='dashed')\n"
   ]
  },
  {
   "cell_type": "code",
   "execution_count": null,
   "id": "21a9de1b",
   "metadata": {},
   "outputs": [],
   "source": [
    "plt.plot(gens, term2_sol, color='blue', label='term2', linestyle='dashed')\n"
   ]
  },
  {
   "cell_type": "code",
   "execution_count": null,
   "id": "69799a9b",
   "metadata": {},
   "outputs": [],
   "source": [
    "plt.plot(gens, term3_sol, color='blue', label='term2', linestyle='dashed')\n"
   ]
  },
  {
   "cell_type": "code",
   "execution_count": null,
   "id": "e4051998",
   "metadata": {},
   "outputs": [],
   "source": []
  }
 ],
 "metadata": {
  "kernelspec": {
   "display_name": "Python 3 (ipykernel)",
   "language": "python",
   "name": "python3"
  },
  "language_info": {
   "codemirror_mode": {
    "name": "ipython",
    "version": 3
   },
   "file_extension": ".py",
   "mimetype": "text/x-python",
   "name": "python",
   "nbconvert_exporter": "python",
   "pygments_lexer": "ipython3",
   "version": "3.9.5"
  }
 },
 "nbformat": 4,
 "nbformat_minor": 5
}
